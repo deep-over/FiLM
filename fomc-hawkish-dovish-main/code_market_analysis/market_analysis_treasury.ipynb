{
 "cells": [
  {
   "attachments": {},
   "cell_type": "markdown",
   "metadata": {},
   "source": [
    "## Import required packages"
   ]
  },
  {
   "cell_type": "code",
   "execution_count": 1,
   "metadata": {},
   "outputs": [],
   "source": [
    "import pandas as pd\n",
    "import numpy as np\n",
    "import statsmodels.api as sm\n",
    "from scipy import stats\n",
    "\n",
    "import plotly as py\n",
    "import plotly.express as px\n",
    "import plotly.graph_objects as go\n",
    "from plotly.subplots import make_subplots\n",
    "import dateutil"
   ]
  },
  {
   "attachments": {},
   "cell_type": "markdown",
   "metadata": {},
   "source": [
    "## Load necessary datasets in form of pandas dataframe"
   ]
  },
  {
   "cell_type": "code",
   "execution_count": 2,
   "metadata": {},
   "outputs": [],
   "source": [
    "## load aggregate measure data\n",
    "\n",
    "# meeting minutes\n",
    "df_measure_mm = pd.read_excel(\"../data/market_analysis_data/aggregate_measure_mm.xlsx\", usecols=[\"ReleaseDate\", \"EndDate\", \"our_measure\"])\n",
    "df_measure_mm[\"EndDate\"] = pd.to_datetime(df_measure_mm[\"EndDate\"], format='%B/%d/%Y')\n",
    "df_measure_mm[\"delay\"] = (df_measure_mm[\"ReleaseDate\"] - df_measure_mm[\"EndDate\"]).dt.days\n",
    "\n",
    "# speeches\n",
    "df_measure_sp = pd.read_excel(\"../data/market_analysis_data/aggregate_measure_sp.xlsx\", usecols=[\"Date\", \"our_measure\"])\n",
    "df_measure_sp['Date'] = df_measure_sp['Date'].apply(dateutil.parser.parse)\n",
    "df_measure_sp[\"Date\"] = pd.to_datetime(df_measure_sp[\"Date\"], format='%m/%d/%Y')\n",
    "\n",
    "# press conferences \n",
    "df_measure_pc = pd.read_excel(\"../data/market_analysis_data/aggregate_measure_pc.xlsx\", usecols=[\"EndDate\", \"our_measure\"])\n",
    "df_measure_pc[\"EndDate\"] = pd.to_datetime(df_measure_pc[\"EndDate\"], format='%B/%d/%Y')\n",
    "\n",
    "\n",
    "## load US Treasury Data \n",
    "# Sorce: https://home.treasury.gov/resource-center/data-chart-center/interest-rates/TextView?type=daily_treasury_yield_curve&field_tdr_date_value=all\n",
    "\n",
    "df_treasury = pd.read_csv(\"../data//market_analysis_data/daily-treasury-rates.csv\", usecols=[\"Date\", \"1 Yr\", \"10 Yr\", \"3 Mo\"])\n",
    "df_treasury['Date'] = df_treasury['Date'].astype('datetime64[ns]')\n",
    "df_treasury['slope_10_1'] = df_treasury['10 Yr'] - df_treasury['1 Yr']\n",
    "df_treasury['slope_10y_3m'] = df_treasury['10 Yr'] - df_treasury['3 Mo']\n",
    "df_treasury = df_treasury.iloc[::-1]"
   ]
  },
  {
   "attachments": {},
   "cell_type": "markdown",
   "metadata": {},
   "source": [
    "## Treasury Yield Analysis"
   ]
  },
  {
   "cell_type": "code",
   "execution_count": 35,
   "metadata": {},
   "outputs": [
    {
     "name": "stdout",
     "output_type": "stream",
     "text": [
      "                            OLS Regression Results                            \n",
      "==============================================================================\n",
      "Dep. Variable:                      y   R-squared:                       0.206\n",
      "Model:                            OLS   Adj. R-squared:                  0.193\n",
      "Method:                 Least Squares   F-statistic:                     15.60\n",
      "Date:                Fri, 23 Dec 2022   Prob (F-statistic):           0.000209\n",
      "Time:                        18:00:29   Log-Likelihood:                -80.487\n",
      "No. Observations:                  62   AIC:                             165.0\n",
      "Df Residuals:                      60   BIC:                             169.2\n",
      "Df Model:                           1                                         \n",
      "Covariance Type:            nonrobust                                         \n",
      "==============================================================================\n",
      "                 coef    std err          t      P>|t|      [0.025      0.975]\n",
      "------------------------------------------------------------------------------\n",
      "const          0.9842      0.116      8.469      0.000       0.752       1.217\n",
      "x1             1.9693      0.499      3.949      0.000       0.972       2.967\n",
      "==============================================================================\n",
      "Omnibus:                        4.018   Durbin-Watson:                   0.368\n",
      "Prob(Omnibus):                  0.134   Jarque-Bera (JB):                3.805\n",
      "Skew:                           0.548   Prob(JB):                        0.149\n",
      "Kurtosis:                       2.477   Cond. No.                         4.37\n",
      "==============================================================================\n",
      "\n",
      "Warnings:\n",
      "[1] Standard Errors assume that the covariance matrix of the errors is correctly specified.\n"
     ]
    }
   ],
   "source": [
    "######################## Treasury Yield Analysis ########################\n",
    "df_merge = pd.merge(df_measure_pc, df_treasury, left_on=\"EndDate\", right_on=\"Date\", how=\"left\") \n",
    "# (df_measure_mm, \"ReleaseDate\"), (df_measure_sp, \"Date\"), (df_measure_pc, \"EndDate\")\n",
    "df_merge = df_merge.dropna()\n",
    "\n",
    "# run OLS\n",
    "var_x = df_merge[\"our_measure\"].tolist()\n",
    "var_x = sm.add_constant(var_x)\n",
    "\n",
    "var_y = df_merge[\"1 Yr\"].tolist() #\"1 Yr\", \"10 Yr\", \"slope_10_1\", slope_10y_3m, 3 Mo\n",
    "\n",
    "result = sm.OLS(var_y, var_x).fit()\n",
    "print(result.summary())"
   ]
  }
 ],
 "metadata": {
  "kernelspec": {
   "display_name": "base",
   "language": "python",
   "name": "python3"
  },
  "language_info": {
   "codemirror_mode": {
    "name": "ipython",
    "version": 3
   },
   "file_extension": ".py",
   "mimetype": "text/x-python",
   "name": "python",
   "nbconvert_exporter": "python",
   "pygments_lexer": "ipython3",
   "version": "3.7.6 (default, Jan  8 2020, 20:23:39) [MSC v.1916 64 bit (AMD64)]"
  },
  "orig_nbformat": 4,
  "vscode": {
   "interpreter": {
    "hash": "dc07d24e2f18896857f0b2a651fe84ba40ce7b297e58d8804a308c8039f752a6"
   }
  }
 },
 "nbformat": 4,
 "nbformat_minor": 2
}
