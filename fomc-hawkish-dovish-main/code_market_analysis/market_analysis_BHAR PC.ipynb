{
 "cells": [
  {
   "attachments": {},
   "cell_type": "markdown",
   "metadata": {},
   "source": [
    "## Import required packages"
   ]
  },
  {
   "cell_type": "code",
   "execution_count": 13,
   "metadata": {},
   "outputs": [],
   "source": [
    "import pandas as pd\n",
    "import numpy as np\n",
    "import statsmodels.api as sm\n",
    "from scipy import stats\n",
    "\n",
    "import plotly as py\n",
    "import plotly.express as px\n",
    "import plotly.graph_objects as go\n",
    "from plotly.subplots import make_subplots\n",
    "import dateutil\n",
    "import matplotlib.pyplot as plt"
   ]
  },
  {
   "attachments": {},
   "cell_type": "markdown",
   "metadata": {},
   "source": [
    "## Load necessary datasets in form of pandas dataframe"
   ]
  },
  {
   "cell_type": "code",
   "execution_count": 18,
   "metadata": {},
   "outputs": [
    {
     "name": "stdout",
     "output_type": "stream",
     "text": [
      "-0.04658452482525098 0.2340165585749656\n"
     ]
    }
   ],
   "source": [
    "## load residual measure data\n",
    "\n",
    "# press conferences \n",
    "df_measure_pc = pd.read_excel(\"../data/market_analysis_data/aggregate_measure_pc.xlsx\", usecols=[\"EndDate\", \"our_measure\"])\n",
    "df_measure_pc[\"EndDate\"] = pd.to_datetime(df_measure_pc[\"EndDate\"], format='%B/%d/%Y')\n",
    "df_measure_pc.sort_values(by='EndDate', inplace=True)\n",
    "\n",
    "print(df_measure_pc[\"our_measure\"].mean(), df_measure_pc[\"our_measure\"].std())\n",
    "\n",
    "## load QQQ data\n",
    "df_QQQ = pd.read_csv(\"../data/market_analysis_data/QQQ.csv\")\n",
    "df_QQQ[\"Date\"] = pd.to_datetime(df_QQQ[\"Date\"], format='%Y-%m-%d') \n",
    "\n"
   ]
  },
  {
   "cell_type": "code",
   "execution_count": 17,
   "metadata": {},
   "outputs": [
    {
     "name": "stdout",
     "output_type": "stream",
     "text": [
      "(61, 10)\n",
      "None\n",
      "509.889898452197 673.2891708511086\n"
     ]
    },
    {
     "data": {
      "application/vnd.plotly.v1+json": {
       "config": {
        "plotlyServerURL": "https://plot.ly"
       },
       "data": [
        {
         "name": "Buy and Hold",
         "type": "scatter",
         "x": [
          "2011-04-27T00:00:00",
          "2011-06-22T00:00:00",
          "2011-11-02T00:00:00",
          "2012-01-25T00:00:00",
          "2012-04-25T00:00:00",
          "2012-06-20T00:00:00",
          "2012-09-13T00:00:00",
          "2012-12-12T00:00:00",
          "2013-03-20T00:00:00",
          "2013-06-19T00:00:00",
          "2013-09-18T00:00:00",
          "2013-12-18T00:00:00",
          "2014-03-19T00:00:00",
          "2014-06-18T00:00:00",
          "2014-09-17T00:00:00",
          "2014-12-17T00:00:00",
          "2015-03-18T00:00:00",
          "2015-06-17T00:00:00",
          "2015-09-17T00:00:00",
          "2015-12-16T00:00:00",
          "2016-03-16T00:00:00",
          "2016-06-15T00:00:00",
          "2016-09-21T00:00:00",
          "2016-12-14T00:00:00",
          "2017-03-15T00:00:00",
          "2017-06-14T00:00:00",
          "2017-09-20T00:00:00",
          "2017-12-13T00:00:00",
          "2018-03-21T00:00:00",
          "2018-06-13T00:00:00",
          "2018-09-26T00:00:00",
          "2018-12-19T00:00:00",
          "2019-01-30T00:00:00",
          "2019-03-20T00:00:00",
          "2019-05-01T00:00:00",
          "2019-06-19T00:00:00",
          "2019-07-31T00:00:00",
          "2019-09-18T00:00:00",
          "2019-10-30T00:00:00",
          "2019-12-11T00:00:00",
          "2020-01-29T00:00:00",
          "2020-03-03T00:00:00",
          "2020-04-29T00:00:00",
          "2020-06-10T00:00:00",
          "2020-07-29T00:00:00",
          "2020-09-16T00:00:00",
          "2020-11-05T00:00:00",
          "2020-12-16T00:00:00",
          "2021-01-27T00:00:00",
          "2021-03-17T00:00:00",
          "2021-04-28T00:00:00",
          "2021-06-16T00:00:00",
          "2021-07-28T00:00:00",
          "2021-09-22T00:00:00",
          "2021-11-03T00:00:00",
          "2021-12-15T00:00:00",
          "2022-01-26T00:00:00",
          "2022-03-16T00:00:00",
          "2022-05-04T00:00:00",
          "2022-06-15T00:00:00",
          "2022-07-27T00:00:00",
          "2022-09-21T00:00:00"
         ],
         "y": [
          100,
          92.79459875807665,
          96.5103640784161,
          102.85384833917092,
          113.29211478292477,
          109.86139343871612,
          118.86693546529146,
          112.81381860504149,
          118.67916342584245,
          125.67454717279143,
          137.42134494135695,
          149.70394093540742,
          157.63049716742458,
          163.1321420092473,
          175.11215259793303,
          179.5320319074613,
          191.03429206840357,
          193.56721666446728,
          190.50919923233914,
          203.18364760358278,
          192.36058198945977,
          193.18223620685447,
          212.98376028871198,
          216.69722741555617,
          238.8350285327237,
          253.19171677433488,
          264.6328472543933,
          284.00462614831304,
          305.0340068431402,
          321.29816358288247,
          338.0679342220387,
          283.50592760188175,
          304.83172615897126,
          331.3391805771264,
          348.2415873843416,
          344.88696324907227,
          353.02023792591075,
          355.6434246852343,
          364.63471866750245,
          379.4243926065321,
          411.46743601447844,
          388.59471151874214,
          388.59471151874214,
          436.89405632360354,
          461.73874436540876,
          488.11670660228344,
          523.2755857830535,
          549.2090876193362,
          568.813015377611,
          573.211450715372,
          604.4239992676195,
          608.0077776949138,
          653.0174129295203,
          660.4249102307157,
          702.6162487472479,
          709.5319255418199,
          616.5361584768476,
          608.9316791841189,
          590.4795492045292,
          506.6371559005758,
          550.7077614492154,
          509.889898452197
         ]
        },
        {
         "name": "Our Strategy",
         "type": "scatter",
         "x": [
          "2011-04-27T00:00:00",
          "2011-06-22T00:00:00",
          "2011-11-02T00:00:00",
          "2012-01-25T00:00:00",
          "2012-04-25T00:00:00",
          "2012-06-20T00:00:00",
          "2012-09-13T00:00:00",
          "2012-12-12T00:00:00",
          "2013-03-20T00:00:00",
          "2013-06-19T00:00:00",
          "2013-09-18T00:00:00",
          "2013-12-18T00:00:00",
          "2014-03-19T00:00:00",
          "2014-06-18T00:00:00",
          "2014-09-17T00:00:00",
          "2014-12-17T00:00:00",
          "2015-03-18T00:00:00",
          "2015-06-17T00:00:00",
          "2015-09-17T00:00:00",
          "2015-12-16T00:00:00",
          "2016-03-16T00:00:00",
          "2016-06-15T00:00:00",
          "2016-09-21T00:00:00",
          "2016-12-14T00:00:00",
          "2017-03-15T00:00:00",
          "2017-06-14T00:00:00",
          "2017-09-20T00:00:00",
          "2017-12-13T00:00:00",
          "2018-03-21T00:00:00",
          "2018-06-13T00:00:00",
          "2018-09-26T00:00:00",
          "2018-12-19T00:00:00",
          "2019-01-30T00:00:00",
          "2019-03-20T00:00:00",
          "2019-05-01T00:00:00",
          "2019-06-19T00:00:00",
          "2019-07-31T00:00:00",
          "2019-09-18T00:00:00",
          "2019-10-30T00:00:00",
          "2019-12-11T00:00:00",
          "2020-01-29T00:00:00",
          "2020-03-03T00:00:00",
          "2020-04-29T00:00:00",
          "2020-06-10T00:00:00",
          "2020-07-29T00:00:00",
          "2020-09-16T00:00:00",
          "2020-11-05T00:00:00",
          "2020-12-16T00:00:00",
          "2021-01-27T00:00:00",
          "2021-03-17T00:00:00",
          "2021-04-28T00:00:00",
          "2021-06-16T00:00:00",
          "2021-07-28T00:00:00",
          "2021-09-22T00:00:00",
          "2021-11-03T00:00:00",
          "2021-12-15T00:00:00",
          "2022-01-26T00:00:00",
          "2022-03-16T00:00:00",
          "2022-05-04T00:00:00",
          "2022-06-15T00:00:00",
          "2022-07-27T00:00:00",
          "2022-09-21T00:00:00"
         ],
         "y": [
          100,
          107.20540124192337,
          111.49821695985484,
          118.82683074285107,
          130.88613761361154,
          126.92263259093254,
          137.32671601045357,
          130.33356306348995,
          137.10978337535883,
          145.1915352388273,
          158.76258554715344,
          172.95264239806482,
          182.11017583959074,
          188.46621434454548,
          202.30669492457233,
          207.41297202647758,
          220.7015085603508,
          223.62779092237147,
          220.09486993123934,
          234.73763299443922,
          222.23376846613087,
          223.18302382405923,
          246.05968219435445,
          250.34984281426202,
          275.9255970407253,
          259.33934585751007,
          271.05827304979783,
          290.90040900293855,
          312.440394207296,
          295.78133512137754,
          280.3433846083197,
          325.5890173895407,
          301.0976571700799,
          327.2804056766671,
          343.97576463524877,
          340.6622333288354,
          348.6958785834625,
          351.28693233467214,
          360.16808649503844,
          374.7765927337521,
          406.4271214379078,
          383.83457883894175,
          383.83457883894175,
          431.5422756290373,
          456.0826259946939,
          482.1374685483913,
          516.8656652602224,
          542.4814918787696,
          561.845279217197,
          566.1898354486021,
          597.0200425330444,
          600.5599210813562,
          556.1016362105998,
          549.7935021733457,
          514.669866760681,
          509.6040994079213,
          576.3960539597969,
          583.5054372400517,
          601.1870894513095,
          686.5498500599357,
          626.8292644710518,
          673.2891708511086
         ]
        }
       ],
       "layout": {
        "autosize": false,
        "font": {
         "size": 25
        },
        "height": 800,
        "template": {
         "data": {
          "bar": [
           {
            "error_x": {
             "color": "#2a3f5f"
            },
            "error_y": {
             "color": "#2a3f5f"
            },
            "marker": {
             "line": {
              "color": "#E5ECF6",
              "width": 0.5
             },
             "pattern": {
              "fillmode": "overlay",
              "size": 10,
              "solidity": 0.2
             }
            },
            "type": "bar"
           }
          ],
          "barpolar": [
           {
            "marker": {
             "line": {
              "color": "#E5ECF6",
              "width": 0.5
             },
             "pattern": {
              "fillmode": "overlay",
              "size": 10,
              "solidity": 0.2
             }
            },
            "type": "barpolar"
           }
          ],
          "carpet": [
           {
            "aaxis": {
             "endlinecolor": "#2a3f5f",
             "gridcolor": "white",
             "linecolor": "white",
             "minorgridcolor": "white",
             "startlinecolor": "#2a3f5f"
            },
            "baxis": {
             "endlinecolor": "#2a3f5f",
             "gridcolor": "white",
             "linecolor": "white",
             "minorgridcolor": "white",
             "startlinecolor": "#2a3f5f"
            },
            "type": "carpet"
           }
          ],
          "choropleth": [
           {
            "colorbar": {
             "outlinewidth": 0,
             "ticks": ""
            },
            "type": "choropleth"
           }
          ],
          "contour": [
           {
            "colorbar": {
             "outlinewidth": 0,
             "ticks": ""
            },
            "colorscale": [
             [
              0,
              "#0d0887"
             ],
             [
              0.1111111111111111,
              "#46039f"
             ],
             [
              0.2222222222222222,
              "#7201a8"
             ],
             [
              0.3333333333333333,
              "#9c179e"
             ],
             [
              0.4444444444444444,
              "#bd3786"
             ],
             [
              0.5555555555555556,
              "#d8576b"
             ],
             [
              0.6666666666666666,
              "#ed7953"
             ],
             [
              0.7777777777777778,
              "#fb9f3a"
             ],
             [
              0.8888888888888888,
              "#fdca26"
             ],
             [
              1,
              "#f0f921"
             ]
            ],
            "type": "contour"
           }
          ],
          "contourcarpet": [
           {
            "colorbar": {
             "outlinewidth": 0,
             "ticks": ""
            },
            "type": "contourcarpet"
           }
          ],
          "heatmap": [
           {
            "colorbar": {
             "outlinewidth": 0,
             "ticks": ""
            },
            "colorscale": [
             [
              0,
              "#0d0887"
             ],
             [
              0.1111111111111111,
              "#46039f"
             ],
             [
              0.2222222222222222,
              "#7201a8"
             ],
             [
              0.3333333333333333,
              "#9c179e"
             ],
             [
              0.4444444444444444,
              "#bd3786"
             ],
             [
              0.5555555555555556,
              "#d8576b"
             ],
             [
              0.6666666666666666,
              "#ed7953"
             ],
             [
              0.7777777777777778,
              "#fb9f3a"
             ],
             [
              0.8888888888888888,
              "#fdca26"
             ],
             [
              1,
              "#f0f921"
             ]
            ],
            "type": "heatmap"
           }
          ],
          "heatmapgl": [
           {
            "colorbar": {
             "outlinewidth": 0,
             "ticks": ""
            },
            "colorscale": [
             [
              0,
              "#0d0887"
             ],
             [
              0.1111111111111111,
              "#46039f"
             ],
             [
              0.2222222222222222,
              "#7201a8"
             ],
             [
              0.3333333333333333,
              "#9c179e"
             ],
             [
              0.4444444444444444,
              "#bd3786"
             ],
             [
              0.5555555555555556,
              "#d8576b"
             ],
             [
              0.6666666666666666,
              "#ed7953"
             ],
             [
              0.7777777777777778,
              "#fb9f3a"
             ],
             [
              0.8888888888888888,
              "#fdca26"
             ],
             [
              1,
              "#f0f921"
             ]
            ],
            "type": "heatmapgl"
           }
          ],
          "histogram": [
           {
            "marker": {
             "pattern": {
              "fillmode": "overlay",
              "size": 10,
              "solidity": 0.2
             }
            },
            "type": "histogram"
           }
          ],
          "histogram2d": [
           {
            "colorbar": {
             "outlinewidth": 0,
             "ticks": ""
            },
            "colorscale": [
             [
              0,
              "#0d0887"
             ],
             [
              0.1111111111111111,
              "#46039f"
             ],
             [
              0.2222222222222222,
              "#7201a8"
             ],
             [
              0.3333333333333333,
              "#9c179e"
             ],
             [
              0.4444444444444444,
              "#bd3786"
             ],
             [
              0.5555555555555556,
              "#d8576b"
             ],
             [
              0.6666666666666666,
              "#ed7953"
             ],
             [
              0.7777777777777778,
              "#fb9f3a"
             ],
             [
              0.8888888888888888,
              "#fdca26"
             ],
             [
              1,
              "#f0f921"
             ]
            ],
            "type": "histogram2d"
           }
          ],
          "histogram2dcontour": [
           {
            "colorbar": {
             "outlinewidth": 0,
             "ticks": ""
            },
            "colorscale": [
             [
              0,
              "#0d0887"
             ],
             [
              0.1111111111111111,
              "#46039f"
             ],
             [
              0.2222222222222222,
              "#7201a8"
             ],
             [
              0.3333333333333333,
              "#9c179e"
             ],
             [
              0.4444444444444444,
              "#bd3786"
             ],
             [
              0.5555555555555556,
              "#d8576b"
             ],
             [
              0.6666666666666666,
              "#ed7953"
             ],
             [
              0.7777777777777778,
              "#fb9f3a"
             ],
             [
              0.8888888888888888,
              "#fdca26"
             ],
             [
              1,
              "#f0f921"
             ]
            ],
            "type": "histogram2dcontour"
           }
          ],
          "mesh3d": [
           {
            "colorbar": {
             "outlinewidth": 0,
             "ticks": ""
            },
            "type": "mesh3d"
           }
          ],
          "parcoords": [
           {
            "line": {
             "colorbar": {
              "outlinewidth": 0,
              "ticks": ""
             }
            },
            "type": "parcoords"
           }
          ],
          "pie": [
           {
            "automargin": true,
            "type": "pie"
           }
          ],
          "scatter": [
           {
            "fillpattern": {
             "fillmode": "overlay",
             "size": 10,
             "solidity": 0.2
            },
            "type": "scatter"
           }
          ],
          "scatter3d": [
           {
            "line": {
             "colorbar": {
              "outlinewidth": 0,
              "ticks": ""
             }
            },
            "marker": {
             "colorbar": {
              "outlinewidth": 0,
              "ticks": ""
             }
            },
            "type": "scatter3d"
           }
          ],
          "scattercarpet": [
           {
            "marker": {
             "colorbar": {
              "outlinewidth": 0,
              "ticks": ""
             }
            },
            "type": "scattercarpet"
           }
          ],
          "scattergeo": [
           {
            "marker": {
             "colorbar": {
              "outlinewidth": 0,
              "ticks": ""
             }
            },
            "type": "scattergeo"
           }
          ],
          "scattergl": [
           {
            "marker": {
             "colorbar": {
              "outlinewidth": 0,
              "ticks": ""
             }
            },
            "type": "scattergl"
           }
          ],
          "scattermapbox": [
           {
            "marker": {
             "colorbar": {
              "outlinewidth": 0,
              "ticks": ""
             }
            },
            "type": "scattermapbox"
           }
          ],
          "scatterpolar": [
           {
            "marker": {
             "colorbar": {
              "outlinewidth": 0,
              "ticks": ""
             }
            },
            "type": "scatterpolar"
           }
          ],
          "scatterpolargl": [
           {
            "marker": {
             "colorbar": {
              "outlinewidth": 0,
              "ticks": ""
             }
            },
            "type": "scatterpolargl"
           }
          ],
          "scatterternary": [
           {
            "marker": {
             "colorbar": {
              "outlinewidth": 0,
              "ticks": ""
             }
            },
            "type": "scatterternary"
           }
          ],
          "surface": [
           {
            "colorbar": {
             "outlinewidth": 0,
             "ticks": ""
            },
            "colorscale": [
             [
              0,
              "#0d0887"
             ],
             [
              0.1111111111111111,
              "#46039f"
             ],
             [
              0.2222222222222222,
              "#7201a8"
             ],
             [
              0.3333333333333333,
              "#9c179e"
             ],
             [
              0.4444444444444444,
              "#bd3786"
             ],
             [
              0.5555555555555556,
              "#d8576b"
             ],
             [
              0.6666666666666666,
              "#ed7953"
             ],
             [
              0.7777777777777778,
              "#fb9f3a"
             ],
             [
              0.8888888888888888,
              "#fdca26"
             ],
             [
              1,
              "#f0f921"
             ]
            ],
            "type": "surface"
           }
          ],
          "table": [
           {
            "cells": {
             "fill": {
              "color": "#EBF0F8"
             },
             "line": {
              "color": "white"
             }
            },
            "header": {
             "fill": {
              "color": "#C8D4E3"
             },
             "line": {
              "color": "white"
             }
            },
            "type": "table"
           }
          ]
         },
         "layout": {
          "annotationdefaults": {
           "arrowcolor": "#2a3f5f",
           "arrowhead": 0,
           "arrowwidth": 1
          },
          "autotypenumbers": "strict",
          "coloraxis": {
           "colorbar": {
            "outlinewidth": 0,
            "ticks": ""
           }
          },
          "colorscale": {
           "diverging": [
            [
             0,
             "#8e0152"
            ],
            [
             0.1,
             "#c51b7d"
            ],
            [
             0.2,
             "#de77ae"
            ],
            [
             0.3,
             "#f1b6da"
            ],
            [
             0.4,
             "#fde0ef"
            ],
            [
             0.5,
             "#f7f7f7"
            ],
            [
             0.6,
             "#e6f5d0"
            ],
            [
             0.7,
             "#b8e186"
            ],
            [
             0.8,
             "#7fbc41"
            ],
            [
             0.9,
             "#4d9221"
            ],
            [
             1,
             "#276419"
            ]
           ],
           "sequential": [
            [
             0,
             "#0d0887"
            ],
            [
             0.1111111111111111,
             "#46039f"
            ],
            [
             0.2222222222222222,
             "#7201a8"
            ],
            [
             0.3333333333333333,
             "#9c179e"
            ],
            [
             0.4444444444444444,
             "#bd3786"
            ],
            [
             0.5555555555555556,
             "#d8576b"
            ],
            [
             0.6666666666666666,
             "#ed7953"
            ],
            [
             0.7777777777777778,
             "#fb9f3a"
            ],
            [
             0.8888888888888888,
             "#fdca26"
            ],
            [
             1,
             "#f0f921"
            ]
           ],
           "sequentialminus": [
            [
             0,
             "#0d0887"
            ],
            [
             0.1111111111111111,
             "#46039f"
            ],
            [
             0.2222222222222222,
             "#7201a8"
            ],
            [
             0.3333333333333333,
             "#9c179e"
            ],
            [
             0.4444444444444444,
             "#bd3786"
            ],
            [
             0.5555555555555556,
             "#d8576b"
            ],
            [
             0.6666666666666666,
             "#ed7953"
            ],
            [
             0.7777777777777778,
             "#fb9f3a"
            ],
            [
             0.8888888888888888,
             "#fdca26"
            ],
            [
             1,
             "#f0f921"
            ]
           ]
          },
          "colorway": [
           "#636efa",
           "#EF553B",
           "#00cc96",
           "#ab63fa",
           "#FFA15A",
           "#19d3f3",
           "#FF6692",
           "#B6E880",
           "#FF97FF",
           "#FECB52"
          ],
          "font": {
           "color": "#2a3f5f"
          },
          "geo": {
           "bgcolor": "white",
           "lakecolor": "white",
           "landcolor": "#E5ECF6",
           "showlakes": true,
           "showland": true,
           "subunitcolor": "white"
          },
          "hoverlabel": {
           "align": "left"
          },
          "hovermode": "closest",
          "mapbox": {
           "style": "light"
          },
          "paper_bgcolor": "white",
          "plot_bgcolor": "#E5ECF6",
          "polar": {
           "angularaxis": {
            "gridcolor": "white",
            "linecolor": "white",
            "ticks": ""
           },
           "bgcolor": "#E5ECF6",
           "radialaxis": {
            "gridcolor": "white",
            "linecolor": "white",
            "ticks": ""
           }
          },
          "scene": {
           "xaxis": {
            "backgroundcolor": "#E5ECF6",
            "gridcolor": "white",
            "gridwidth": 2,
            "linecolor": "white",
            "showbackground": true,
            "ticks": "",
            "zerolinecolor": "white"
           },
           "yaxis": {
            "backgroundcolor": "#E5ECF6",
            "gridcolor": "white",
            "gridwidth": 2,
            "linecolor": "white",
            "showbackground": true,
            "ticks": "",
            "zerolinecolor": "white"
           },
           "zaxis": {
            "backgroundcolor": "#E5ECF6",
            "gridcolor": "white",
            "gridwidth": 2,
            "linecolor": "white",
            "showbackground": true,
            "ticks": "",
            "zerolinecolor": "white"
           }
          },
          "shapedefaults": {
           "line": {
            "color": "#2a3f5f"
           }
          },
          "ternary": {
           "aaxis": {
            "gridcolor": "white",
            "linecolor": "white",
            "ticks": ""
           },
           "baxis": {
            "gridcolor": "white",
            "linecolor": "white",
            "ticks": ""
           },
           "bgcolor": "#E5ECF6",
           "caxis": {
            "gridcolor": "white",
            "linecolor": "white",
            "ticks": ""
           }
          },
          "title": {
           "x": 0.05
          },
          "xaxis": {
           "automargin": true,
           "gridcolor": "white",
           "linecolor": "white",
           "ticks": "",
           "title": {
            "standoff": 15
           },
           "zerolinecolor": "white",
           "zerolinewidth": 2
          },
          "yaxis": {
           "automargin": true,
           "gridcolor": "white",
           "linecolor": "white",
           "ticks": "",
           "title": {
            "standoff": 15
           },
           "zerolinecolor": "white",
           "zerolinewidth": 2
          }
         }
        },
        "title": {
         "text": "Buy and Hold vs Our Strategy"
        },
        "width": 1000,
        "xaxis": {
         "title": {
          "text": "Date"
         }
        },
        "yaxis": {
         "title": {
          "text": "Value of $100 Invested"
         }
        }
       }
      }
     },
     "metadata": {},
     "output_type": "display_data"
    }
   ],
   "source": [
    "df_merge = pd.merge(df_measure_pc, df_QQQ, left_on=\"EndDate\", right_on=\"Date\", how=\"left\")\n",
    "df_merge[\"inter_meeting_period_ret\"] = df_merge[\"Adj Close\"].pct_change(1)*100\n",
    "df_merge[\"inter_meeting_period_ret\"] = df_merge[\"inter_meeting_period_ret\"].shift(-1) \n",
    "df_merge = df_merge.dropna()\n",
    "print(df_merge.shape)\n",
    "\n",
    "print(df_merge.to_csv(\"temp.csv\", index=False))\n",
    "\n",
    "var_x = df_merge[\"our_measure\"].tolist()\n",
    "\n",
    "\n",
    "\n",
    "dates_list = [df_merge[\"Date\"].tolist()[0]]\n",
    "QQQ_BAH_list = [100.0]\n",
    "QQQ_LSM_list = [100.0]\n",
    "for i in range(0, len(var_x)):\n",
    "    if i+1 == len(var_x):\n",
    "        dates_list.append(df_measure_pc[\"EndDate\"].tolist()[-1])\n",
    "    else:\n",
    "        dates_list.append(df_merge[\"EndDate\"].tolist()[i+1])\n",
    "    measure_value = df_merge[\"our_measure\"].tolist()[i]\n",
    "    #rolling_avg = df_measure_pc[\"SMA\"].tolist()[i]\n",
    "    \n",
    "    pct_change = df_merge[\"inter_meeting_period_ret\"].tolist()[i]\n",
    "    \n",
    "    QQQ_BAH_list.append(QQQ_BAH_list[-1]*(1.0+(pct_change/100.0)))\n",
    "\n",
    "    if measure_value <= 0.0: \n",
    "        QQQ_LSM_list.append(QQQ_LSM_list[-1]*(1.0+(pct_change/100.0)))\n",
    "    else:\n",
    "        QQQ_LSM_list.append(QQQ_LSM_list[-1]*(1.0-(pct_change/100.0)))\n",
    "\n",
    "print(QQQ_BAH_list[-1], QQQ_LSM_list[-1])\n",
    "\n",
    "fig = go.Figure()\n",
    "\n",
    "fig.add_trace(go.Scatter(x=dates_list, y=QQQ_BAH_list,\n",
    "    name=\"Buy and Hold\"       # this sets its legend entry\n",
    "))\n",
    "\n",
    "\n",
    "fig.add_trace(go.Scatter(x=dates_list, y=QQQ_LSM_list,\n",
    "    name=\"Our Strategy\"\n",
    "))\n",
    "\n",
    "\n",
    "\n",
    "# Add figure title\n",
    "fig.update_layout(\n",
    "    title_text=\"Buy and Hold vs Our Strategy\"\n",
    ")\n",
    "\n",
    "# Set x-axis title\n",
    "fig.update_xaxes(title_text=\"Date\")\n",
    "# Set y-axes title\n",
    "fig.update_yaxes(title_text=\"Value of $100 Invested\")\n",
    "\n",
    "fig.update_layout(\n",
    "    autosize=False,\n",
    "    width=1000,\n",
    "    height=800,\n",
    "    font=dict(\n",
    "        size=25,\n",
    "    ))\n",
    "\n",
    "fig.show()\n",
    "\n"
   ]
  },
  {
   "cell_type": "code",
   "execution_count": null,
   "metadata": {},
   "outputs": [],
   "source": []
  }
 ],
 "metadata": {
  "kernelspec": {
   "display_name": "nlp-base-env",
   "language": "python",
   "name": "python3"
  },
  "language_info": {
   "codemirror_mode": {
    "name": "ipython",
    "version": 3
   },
   "file_extension": ".py",
   "mimetype": "text/x-python",
   "name": "python",
   "nbconvert_exporter": "python",
   "pygments_lexer": "ipython3",
   "version": "3.8.13"
  },
  "orig_nbformat": 4,
  "vscode": {
   "interpreter": {
    "hash": "47d6288bdba16b60787a90facd23e060db90fa025eb64913a4d27ddda4d466a4"
   }
  }
 },
 "nbformat": 4,
 "nbformat_minor": 2
}
